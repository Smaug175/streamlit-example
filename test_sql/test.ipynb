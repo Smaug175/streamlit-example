{
 "cells": [
  {
   "metadata": {
    "ExecuteTime": {
     "end_time": "2024-12-28T05:52:13.510311Z",
     "start_time": "2024-12-28T05:52:13.506241Z"
    }
   },
   "cell_type": "code",
   "source": [
    "import sqlite3\n",
    "\n",
    "# 连接到数据库（如果不存在则会创建一个新的数据库文件）\n",
    "conn = sqlite3.connect('example.db')\n",
    "# conn.close()\n",
    "# 创建一个游标对象，用于执行SQL语句\n",
    "cursor = conn.cursor()"
   ],
   "id": "a3f7e417860c98b8",
   "outputs": [],
   "execution_count": 21
  },
  {
   "metadata": {
    "ExecuteTime": {
     "end_time": "2024-12-28T05:52:13.522930Z",
     "start_time": "2024-12-28T05:52:13.518383Z"
    }
   },
   "cell_type": "code",
   "source": [
    "# 创建表的SQL语句\n",
    "create_table_sql = \"\"\"\n",
    "CREATE TABLE IF NOT EXISTS users (\n",
    "    id INTEGER PRIMARY KEY AUTOINCREMENT,\n",
    "    name TEXT NOT NULL,\n",
    "    age INTEGER\n",
    ")\n",
    "\"\"\"\n",
    "# 执行创建表的SQL语句\n",
    "cursor.execute(create_table_sql)\n",
    "\n",
    "# 提交事务（因为创建表也是一种修改数据库结构的操作，需要提交才能生效）\n",
    "conn.commit()"
   ],
   "id": "ac4e8e2f33bdb005",
   "outputs": [],
   "execution_count": 22
  },
  {
   "metadata": {
    "ExecuteTime": {
     "end_time": "2024-12-28T05:52:13.545650Z",
     "start_time": "2024-12-28T05:52:13.530051Z"
    }
   },
   "cell_type": "code",
   "source": [
    "\n",
    "create_DC0124_DIEO = \"\"\"\n",
    "CREATE TABLE IF NOT EXISTS DIEO (\n",
    "    图号 INTEGER PRIMARY KEY AUTOINCREMENT,\n",
    "    '%%CD' TEXT NOT NULL,\n",
    "    '%%Cd0' TEXT NOT NULL,\n",
    "    '%%Cd1' TEXT NOT NULL,\n",
    "    '%%Cd2' TEXT NOT NULL,\n",
    "    件数 TEXT NOT NULL,\n",
    "    成品直径 TEXT NOT NULL,\n",
    "    日期 TEXT NOT NULL,\n",
    "    模具名称 TEXT NOT NULL,\n",
    "    设计者 TEXT NOT NULL,\n",
    "    车种规格 TEXT NOT NULL\n",
    ")\n",
    "\"\"\"\n",
    "\n",
    "cursor.execute(create_DC0124_DIEO)\n",
    "conn.commit()"
   ],
   "id": "7b99506fa9e2f8e4",
   "outputs": [],
   "execution_count": 23
  },
  {
   "metadata": {
    "ExecuteTime": {
     "end_time": "2024-12-28T05:52:13.567703Z",
     "start_time": "2024-12-28T05:52:13.552786Z"
    }
   },
   "cell_type": "code",
   "source": [
    "# 插入单条数据的SQL语句\n",
    "insert_single_sql = \"INSERT INTO users (name, age) VALUES (?,?)\"\n",
    "data_single = ('Alice', 25)\n",
    "# 执行插入单条数据操作\n",
    "cursor.execute(insert_single_sql, data_single)\n",
    "\n",
    "# 插入多条数据\n",
    "insert_multiple_sql = \"INSERT INTO users (name, age) VALUES (?,?)\"\n",
    "data_multiple = [\n",
    "    ('Bob', 30),\n",
    "    ('Charlie', 35)\n",
    "]\n",
    "# 使用 executemany 方法批量插入数据\n",
    "cursor.executemany(insert_multiple_sql, data_multiple)\n",
    "\n",
    "# 提交事务\n",
    "conn.commit()"
   ],
   "id": "4c65caf241cc2fc7",
   "outputs": [],
   "execution_count": 24
  },
  {
   "metadata": {
    "ExecuteTime": {
     "end_time": "2024-12-28T05:52:13.578889Z",
     "start_time": "2024-12-28T05:52:13.574302Z"
    }
   },
   "cell_type": "code",
   "source": [
    "# 查询数据的SQL语句\n",
    "select_sql = \"SELECT * FROM users\"\n",
    "# 执行查询语句\n",
    "cursor.execute(select_sql)\n",
    "\n",
    "# 获取所有查询结果（返回一个包含所有记录的列表，每条记录是一个元组）\n",
    "results = cursor.fetchall()\n",
    "for row in results:\n",
    "    print(row)\n",
    "\n",
    "# 也可以获取单条记录（例如获取第一条记录）\n",
    "single_result = cursor.fetchone()\n",
    "print(single_result)"
   ],
   "id": "9b201ddfe2caa426",
   "outputs": [
    {
     "name": "stdout",
     "output_type": "stream",
     "text": [
      "(1, 'Alice', 25)\n",
      "(2, 'Bob', 30)\n",
      "(3, 'Charlie', 35)\n",
      "None\n"
     ]
    }
   ],
   "execution_count": 25
  },
  {
   "metadata": {
    "ExecuteTime": {
     "end_time": "2024-12-28T05:52:13.602166Z",
     "start_time": "2024-12-28T05:52:13.586676Z"
    }
   },
   "cell_type": "code",
   "source": [
    "# 更新数据的SQL语句\n",
    "update_sql = \"UPDATE users SET age =? WHERE name =?\"\n",
    "data_update = (31, 'Bob')\n",
    "# 执行更新操作\n",
    "cursor.execute(update_sql, data_update)\n",
    "\n",
    "# 提交事务\n",
    "conn.commit()"
   ],
   "id": "9b25674294bd2a5f",
   "outputs": [],
   "execution_count": 26
  },
  {
   "metadata": {
    "ExecuteTime": {
     "end_time": "2024-12-28T05:52:13.623344Z",
     "start_time": "2024-12-28T05:52:13.608731Z"
    }
   },
   "cell_type": "code",
   "source": [
    "# 删除数据的SQL语句\n",
    "delete_sql = \"DELETE FROM users WHERE age >?\"\n",
    "data_delete = (30,)\n",
    "# 执行删除操作\n",
    "cursor.execute(delete_sql, data_delete)\n",
    "\n",
    "# 提交事务\n",
    "conn.commit()"
   ],
   "id": "9a62d696d0636250",
   "outputs": [],
   "execution_count": 27
  },
  {
   "metadata": {
    "ExecuteTime": {
     "end_time": "2024-12-28T05:52:13.632815Z",
     "start_time": "2024-12-28T05:52:13.629997Z"
    }
   },
   "cell_type": "code",
   "source": [
    "# 关闭游标\n",
    "cursor.close()\n",
    "# 关闭数据库连接\n",
    "conn.close()"
   ],
   "id": "79cd90d1f1e480ed",
   "outputs": [],
   "execution_count": 28
  }
 ],
 "metadata": {
  "kernelspec": {
   "name": "python3",
   "language": "python",
   "display_name": "Python 3 (ipykernel)"
  }
 },
 "nbformat": 5,
 "nbformat_minor": 9
}
